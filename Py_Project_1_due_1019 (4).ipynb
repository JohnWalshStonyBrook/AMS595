{
 "cells": [
  {
   "cell_type": "markdown",
   "metadata": {
    "id": "xq__bChjD04e"
   },
   "source": [
    "# Python Assignment 1"
   ]
  },
  {
   "cell_type": "markdown",
   "metadata": {
    "id": "y7j2V0UDMYLG"
   },
   "source": [
    "⏱⏱⏱**Due: 10/19/2025 11:59:59 PM** ⏱⏱⏱\n",
    "\n",
    "Submit this notebook file and upload it to your git repo. Include a link to your git repo while submitting this file to Brightspace.\n",
    "\n",
    "You are not allowed to use chatgpt or any LLM in this assignment.\n",
    "Cooperation is allowed and encouraged; however, you must write up and submit your own work. If you cooperate with others, you must list their names here."
   ]
  },
  {
   "cell_type": "markdown",
   "metadata": {
    "id": "SUS30Ew9D04n"
   },
   "source": [
    "Total points: 100 (equivalent to 20 points after conversion)"
   ]
  },
  {
   "cell_type": "markdown",
   "metadata": {
    "id": "b_bgT3b2GYTB"
   },
   "source": [
    "## 0. Data Types, Structures, Indexing, and Slicing"
   ]
  },
  {
   "cell_type": "markdown",
   "metadata": {
    "id": "6yI1Jt57IwV2"
   },
   "source": [
    "Read the lecutre note as well as [this page](https://www.geeksforgeeks.org/mutable-vs-immutable-objects-in-python/) and [this page](https://www.geeksforgeeks.org/difference-between-shallow-and-deep-copy-of-a-class/). Complete the following questions.\n",
    "\n",
    "(5 points) Give some examples (at least 2) of mutable objects in Python.\n",
    "\n",
    "***Answer:***\n",
    "\n",
    "\n",
    "---\n",
    "\n",
    "\n",
    "\n",
    "(5 points) Give some examples (at least 2) of immutable objects in Python.\n",
    "\n",
    "***Answer:***\n",
    "\n",
    "\n",
    "---\n",
    "\n",
    "\n",
    "\n",
    "(10 points) State the differences between assignment, shallow copy, and deep copy. Any reasonable answer will get full credit.\n",
    "\n",
    "***Answer:***\n",
    "\n",
    "\n",
    "---\n",
    "\n",
    "\n",
    "\n"
   ]
  },
  {
   "metadata": {},
   "cell_type": "code",
   "outputs": [],
   "execution_count": null,
   "source": [
    "# Mutable Objects in Python\n",
    "#John Walsh.  Can be lists.\n",
    "numbers = [1, 2, 3]\n",
    "numbers.append(4)  # modifies the list\n",
    "print(numbers)  # Output: [1, 2, 3, 4]\n",
    "\n",
    "#Can be Dictionaries\n",
    "student = {\"name\": \"John\", \"age\": 58}\n",
    "student[\"age\"] = 58  # modifies the value\n",
    "student[\"grade\"] = \"A\"  # adds a new key-value pair\n",
    "print(student)  # Output: {'name': 'Alice', 'age': 21, 'grade': 'A'}\n",
    "\n",
    "# Immutable Objects in Python\n",
    "#John Walsh, Tuples are immutable ojects\n",
    "coordinates = (10, 20, 30)\n",
    "# coordinates[0] = 5  # ❌ This will raise a TypeError\n",
    "\n",
    "#John Walsh, Strings are immutable ojects\n",
    "name = \"John\"\n",
    "name = name + \" Walsh\"  # creates a new string\n",
    "print(name)  # Output: John Walsh\n",
    "\n",
    "#Assingment.  Creates a new reference to the same object in memory. Changes made through one variable affect the other, since both point to the same object.\n",
    "a = [1, 2, 3]\n",
    "b = a        # assignment\n",
    "b.append(4)\n",
    "print(a)  # Output: [1, 2, 3, 4]  (both changed)\n",
    "\n",
    "\n",
    "#Shallow Copy.  Creates a new object, but the elements inside still reference the same inner objects as the original. Only the outer container is copied.\n",
    "\n",
    "import copy\n",
    "a = [[1, 2], [3, 4]]\n",
    "b = copy.copy(a)  # shallow copy\n",
    "b[0].append(5)\n",
    "print(a)  # Output: [[1, 2, 5], [3, 4]] (inner lists are shared)\n",
    "\n",
    "#Deep Copy.  Creates a completely independent copy of the original object and all objects inside it. Changes in one do not affect the other.\n",
    "\n",
    "import copy\n",
    "a = [[1, 2], [3, 4]]\n",
    "b = copy.deepcopy(a)  # deep copy\n",
    "b[0].append(5)\n",
    "print(a)  # Output: [[1, 2], [3, 4]] (no change)\n"
   ]
  },
  {
   "cell_type": "markdown",
   "metadata": {
    "id": "OA8DxcrrGqZD"
   },
   "source": [
    "(10 points) Using string methods find() and rfind(), find the index of the first digit (i.e. 0) and the index of the last digit (5) in the string below. Then, using string slicing, extract the number (i.e. 0.595595) from this string and convert the extracted value to a floating point number. Print out this float to the console."
   ]
  },
  {
   "cell_type": "code",
   "execution_count": null,
   "metadata": {
    "id": "AUuFXXWqG4D3"
   },
   "outputs": [],
   "source": [
    "text = \"F-DGFDDSFGFD-CFDSHdstgfdfe: tfsd  aaa bdsf 0.595595 fdsgfdbc\";\n",
    "\n",
    "# Using string methods find() and rfind() to extract the number.  find('0') locates the first occurrence of '0'. rfind('5') locates the last occurrence of '5'. String slicing text[first_digit_index:last_digit_index + 1] extracts \"0.595595\". float() converts it to a floating-point number.\n",
    "\n",
    "text = \"F-DGFDDSFGFD-CFDSHdstgfdfe: tfsd  aaa bdsf 0.595595 fdsgfdbc\"\n",
    "\n",
    "# Find the index of the first digit (0) and the last digit (5)\n",
    "first_digit_index = text.find('0')\n",
    "last_digit_index = text.rfind('5')\n",
    "\n",
    "# Extract the number using string slicing\n",
    "number_str = text[first_digit_index: last_digit_index + 1]\n",
    "\n",
    "# Convert the extracted string to a float\n",
    "number_float = float(number_str)\n",
    "\n",
    "# Print the result\n",
    "print(number_float)\n"
   ]
  },
  {
   "cell_type": "markdown",
   "metadata": {
    "id": "cnCljYgpD04p"
   },
   "source": [
    "## 1. Conditional Statements\n",
    "\n",
    "(10 points)\n",
    "Translate the following MATLAB code into Python using `if-elif-else`.\n",
    "```\n",
    "n = input('Enter a number: ');\n",
    "\n",
    "switch n\n",
    "    case -1\n",
    "        disp('negative one')\n",
    "    case 0\n",
    "        disp('zero')\n",
    "    case 1\n",
    "        disp('positive one')\n",
    "    otherwise\n",
    "        disp('other value')\n",
    "end\n",
    "```"
   ]
  },
  {
   "cell_type": "code",
   "execution_count": null,
   "metadata": {
    "collapsed": true,
    "id": "9d8vl5zjD04q"
   },
   "outputs": [],
   "source": [
    "## 1. Set Conditional Statements\n",
    "\n",
    "#input() in Python reads a string, so we use int() to convert it to an integer. The if-elif-else structure performs the same logic as MATLAB’s switch-case. print() in Python corresponds to MATLAB’s disp().\n",
    "\n",
    "# Get user input and convert it to an integer\n",
    "n = int(input(\"Enter a number: \"))\n",
    "\n",
    "# Use if-elif-else to mimic MATLAB's switch-case\n",
    "if n == -1:\n",
    "    print(\"negative one\")\n",
    "elif n == 0:\n",
    "    print(\"zero\")\n",
    "elif n == 1:\n",
    "    print(\"positive one\")\n",
    "else:\n",
    "    print(\"other value\")\n"
   ]
  },
  {
   "cell_type": "markdown",
   "metadata": {
    "id": "sW9XiUPpD04s"
   },
   "source": [
    "## 2. While Loops\n",
    "\n",
    "(10 points) Write a Python program that calculates the factorial of a given number (you can assume an positive integer) using a while loop. Display the result to the console."
   ]
  },
  {
   "cell_type": "code",
   "execution_count": null,
   "metadata": {
    "colab": {
     "base_uri": "https://localhost:8080/"
    },
    "collapsed": true,
    "id": "CRCERx8uD04t",
    "outputId": "1870b9d1-fe04-4ae7-e5ec-08ce640ce72e"
   },
   "outputs": [
    {
     "name": "stdout",
     "output_type": "stream",
     "text": [
      "24\n"
     ]
    }
   ],
   "source": [
    "\n",
    "## 2. While Loops\n",
    "\n",
    "# Python program to calculate the factorial of a given number using a while loop.  The program takes a positive integer input from the user. It initializes factorial to 1 and i to 1. Using a while loop, it multiplies factorial by each number up to num. Finally, it prints the computed factorial.\n",
    "\n",
    "# Input: a positive integer\n",
    "n = int(input(\"Enter a positive integer: \"))\n",
    "\n",
    "# Initialize variables\n",
    "factorial = 1\n",
    "i = 1\n",
    "\n",
    "# While loop to compute factorial\n",
    "while i <= n:\n",
    "    factorial *= i\n",
    "    i += 1\n",
    "\n",
    "# Display the result\n",
    "print(f\"The factorial of {num} is {factorial}\")\n",
    "\n",
    "\n",
    "\n",
    "\n",
    "# test cases\n",
    "# num = 17, Output: 355687428096000\n",
    "# num = 13, Output: 6227020800"
   ]
  },
  {
   "cell_type": "markdown",
   "metadata": {
    "id": "ZQ5SVMq6D04w"
   },
   "source": [
    "## 3. Functions\n",
    "\n",
    "(10 points) Write a function that determines if a number is prime."
   ]
  },
  {
   "cell_type": "code",
   "execution_count": null,
   "metadata": {
    "colab": {
     "base_uri": "https://localhost:8080/"
    },
    "id": "6rGP5G3_D04x",
    "outputId": "00df2d17-b697-4146-968f-be4fa7cc3ba3"
   },
   "outputs": [
    {
     "name": "stdout",
     "output_type": "stream",
     "text": [
      "True\n",
      "False\n",
      "True\n"
     ]
    }
   ],
   "source": [
    "## 3. Functions. Write a function that determines if a number is prime.\n",
    "# Numbers less than or equal to 1 are not prime. The function checks divisibility from 2 up to √n — if any divisor evenly divides n, it’s not prime. Otherwise, the number is prime.\n",
    "\n",
    "def is_prime(n):\n",
    "    \"\"\"Return True if n is a prime number, otherwise False.\"\"\"\n",
    "    if n <= 1:\n",
    "        return False\n",
    "    i = 2\n",
    "    while i * i <= n:  # Only check divisors up to √n\n",
    "        if n % i == 0:\n",
    "            return False\n",
    "        i += 1\n",
    "    return True\n",
    "\n",
    "\n",
    "# Example:\n",
    "num = int(input(\"Enter a number: \"))\n",
    "if is_prime(num):\n",
    "    print(f\"{num} is a prime number.\")\n",
    "else:\n",
    "    print(f\"{num} is not a prime number.\")\n",
    "\n",
    "\n",
    "\n",
    "\n",
    "# test cases\n",
    "print(is_prime(2))      # Output: True\n",
    "print(is_prime(10))     # Output: False\n",
    "print(is_prime(17))     # Output: True"
   ]
  },
  {
   "cell_type": "markdown",
   "metadata": {
    "id": "Z6qg-fpQD04u"
   },
   "source": [
    "## 4. List Comprehension\n",
    "\n",
    "(10 points) Write a Python function called `prime_factors` that takes a relatively small integer as input and returns a list of its distinct prime factors. The function should use list comprehension to generate the list of distinct prime factors. You may use the function is_prime() defined in Q3.\n"
   ]
  },
  {
   "cell_type": "code",
   "execution_count": null,
   "metadata": {
    "colab": {
     "base_uri": "https://localhost:8080/"
    },
    "collapsed": true,
    "id": "2hSCjYlOD04v",
    "outputId": "1024d2e2-7d24-4e65-9529-e5a82d2a3211"
   },
   "outputs": [
    {
     "name": "stdout",
     "output_type": "stream",
     "text": [
      "[2, 3, 5]\n",
      "[2, 7]\n",
      "[2, 3, 11]\n",
      "[2, 29]\n"
     ]
    }
   ],
   "source": [
    "## 4. List Comprehension\n",
    "# Write a Python function called `prime_factors` that takes a relatively small integer as input and returns a list of its distinct prime factors. The function should use list comprehension to generate the list of distinct prime factors. You may use the function is_prime() defined in Q3.\n",
    "\n",
    "#The list comprehension [i for i in range(2, n + 1) if n % i == 0 and is_prime(i)] loops through all integers from 2 to n. It includes only those i that divide n evenly and are prime (checked with is_prime(i)). The result is a list of distinct prime factors of the input number.\n",
    "\n",
    "def prime_factors(n):\n",
    "    \"\"\"Return a list of distinct prime factors of n using list comprehension.\"\"\"\n",
    "    return [i for i in range(2, n + 1) if n % i == 0 and is_prime(i)]\n",
    "\n",
    "\n",
    "# Example usage:\n",
    "num = int(input(\"Enter an integer: \"))\n",
    "print(f\"Distinct prime factors of {num}: {prime_factors(num)}\")\n",
    "\n",
    "\n",
    "# test cases\n",
    "print(prime_factors(30))  # Output: [2, 3, 5]\n",
    "print(prime_factors(56))  # Output: [2, 7]\n",
    "print(prime_factors(198))  # Output: [2, 3, 11]\n",
    "print(prime_factors(464))  # Output: [2, 29]"
   ]
  },
  {
   "cell_type": "markdown",
   "metadata": {
    "id": "dw4kZZCiD040"
   },
   "source": [
    "## 5. Recursive Functions\n",
    "(25 points) Write a function that uses recursion to generate the $n$th row of the Pascal's triangle.\n",
    "```\n",
    "              1\n",
    "           1     1\n",
    "        1     2     1\n",
    "      1    3     3     1\n",
    "   1    4     6     4    1\n",
    "1     5    10    10    5    1\n",
    "...\n",
    "...\n",
    "...\n",
    "```"
   ]
  },
  {
   "cell_type": "code",
   "execution_count": null,
   "metadata": {
    "colab": {
     "base_uri": "https://localhost:8080/"
    },
    "id": "V8QFB_gKD040",
    "outputId": "4946dc49-2061-4057-e65d-9f48af44dac9"
   },
   "outputs": [
    {
     "name": "stdout",
     "output_type": "stream",
     "text": [
      "[1, 5, 10, 10, 5, 1]\n"
     ]
    }
   ],
   "source": [
    "## 5. Recursive Functions\n",
    "# Write a function that uses recursion to generate the nth row of Pascal's triangle. The base case is when n == 0, returning [1]. For any other row, the function: Recursively computes the previous row. Builds the new row by summing adjacent elements from the previous one. Adds 1 at both ends. This recursive structure follows the mathematical definition of Pascal’s Triangle: C(n,k)=C(n−1,k−1)+C(n−1,k)\n",
    "\n",
    "def pascal_row(n):\n",
    "    \"\"\"\n",
    "    Return the nth row (0-indexed) of Pascal's Triangle using recursion.\n",
    "    Example:\n",
    "    pascal_row(0) -> [1]\n",
    "    pascal_row(1) -> [1, 1]\n",
    "    pascal_row(4) -> [1, 4, 6, 4, 1]\n",
    "    \"\"\"\n",
    "    # Base case: first row is always [1]\n",
    "    if n == 0:\n",
    "        return [1]\n",
    "\n",
    "    # Recursive case: build current row from the previous one\n",
    "    prev_row = pascal_row(n - 1)\n",
    "    curr_row = [1]  # start with 1\n",
    "    for i in range(1, len(prev_row)):\n",
    "        curr_row.append(prev_row[i - 1] + prev_row[i])  # sum of two above\n",
    "    curr_row.append(1)  # end with 1\n",
    "\n",
    "    return curr_row\n",
    "\n",
    "\n",
    "# Example usage:\n",
    "n = int(input(\"Enter the row number (starting from 0): \"))\n",
    "print(f\"The {n}th row of Pascal's Triangle is: {pascal_row(n)}\")\n",
    "\n",
    "\n",
    "\n",
    "# test case\n",
    "print(pascal(6))  # output [1, 5, 10, 10, 5, 1]"
   ]
  },
  {
   "cell_type": "markdown",
   "metadata": {
    "id": "eZytgm0qD041"
   },
   "source": [
    "Rewrite the above function using only `while` or `for` loops instead of recursion."
   ]
  },
  {
   "cell_type": "code",
   "execution_count": null,
   "metadata": {
    "colab": {
     "base_uri": "https://localhost:8080/"
    },
    "collapsed": true,
    "id": "UZ8f-akaD041",
    "outputId": "68ec5672-a40f-493f-e725-68b7471e76bc"
   },
   "outputs": [
    {
     "name": "stdout",
     "output_type": "stream",
     "text": [
      "[1, 5, 10, 10, 5, 1]\n"
     ]
    }
   ],
   "source": [
    "## Pascal's Triangle (Iterative Version using loops instead of recursion)\n",
    "\n",
    "# Rewrite the above function using only while or for loops instead of recursion.\n",
    "# Starts with the first row [1]. For each new row (from 1 to n), it: Begins and ends with 1. Fills the middle elements by summing adjacent pairs from the previous row. The process repeats until the n-th row is built.\n",
    "\n",
    "def pascal_row_iterative(n):\n",
    "    \"\"\"\n",
    "    Return the nth row (0-indexed) of Pascal's Triangle using loops instead of recursion.\n",
    "    Example:\n",
    "    pascal_row_iterative(0) -> [1]\n",
    "    pascal_row_iterative(1) -> [1, 1]\n",
    "    pascal_row_iterative(4) -> [1, 4, 6, 4, 1]\n",
    "    \"\"\"\n",
    "    # Base case\n",
    "    if n == 0:\n",
    "        return [1]\n",
    "\n",
    "    row = [1]\n",
    "    for i in range(1, n + 1):\n",
    "        new_row = [1]  # start each row with 1\n",
    "        for j in range(1, len(row)):\n",
    "            new_row.append(row[j - 1] + row[j])  # sum adjacent elements\n",
    "        new_row.append(1)  # end each row with 1\n",
    "        row = new_row  # update for next iteration\n",
    "\n",
    "    return row\n",
    "\n",
    "\n",
    "# Example usage:\n",
    "n = int(\n",
    "\n",
    "print(pascal_by_loops(6))"
   ]
  },
  {
   "cell_type": "markdown",
   "metadata": {
    "id": "HvHD6QHzVo9I"
   },
   "source": [
    "\n",
    "\n",
    "---\n",
    "\n",
    "\n",
    "（5 points) good coding practice and properly submitting your work to GitHub."
   ]
  },
  {
   "metadata": {
    "ExecuteTime": {
     "end_time": "2025-10-21T21:18:47.041278Z",
     "start_time": "2025-10-21T21:18:47.022728Z"
    }
   },
   "cell_type": "code",
   "source": [
    "git remote add origin https://github.com/JohnWalshStonyBrook/AMS595.git\n",
    "git branch -M main\n",
    "git push -u origin main\\\n",
    "\n",
    "\n"
   ],
   "outputs": [
    {
     "ename": "SyntaxError",
     "evalue": "invalid syntax (3079296018.py, line 1)",
     "output_type": "error",
     "traceback": [
      "  \u001B[36mCell\u001B[39m\u001B[36m \u001B[39m\u001B[32mIn[1]\u001B[39m\u001B[32m, line 1\u001B[39m\n\u001B[31m    \u001B[39m\u001B[31mgit remote add origin https://github.com/JohnWalshStonyBrook/AMS595.git\u001B[39m\n        ^\n\u001B[31mSyntaxError\u001B[39m\u001B[31m:\u001B[39m invalid syntax\n"
     ]
    }
   ],
   "execution_count": 1
  },
  {
   "metadata": {},
   "cell_type": "markdown",
   "source": ""
  },
  {
   "metadata": {},
   "cell_type": "code",
   "outputs": [],
   "execution_count": null,
   "source": ""
  },
  {
   "metadata": {},
   "cell_type": "markdown",
   "source": ""
  }
 ],
 "metadata": {
  "anaconda-cloud": {},
  "colab": {
   "provenance": []
  },
  "kernelspec": {
   "display_name": "Python 3",
   "language": "python",
   "name": "python3"
  },
  "language_info": {
   "codemirror_mode": {
    "name": "ipython",
    "version": 3
   },
   "file_extension": ".py",
   "mimetype": "text/x-python",
   "name": "python",
   "nbconvert_exporter": "python",
   "pygments_lexer": "ipython3",
   "version": "3.7.4"
  }
 },
 "nbformat": 4,
 "nbformat_minor": 0
}
